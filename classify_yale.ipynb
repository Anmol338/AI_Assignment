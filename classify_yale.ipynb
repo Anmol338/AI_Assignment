{
 "cells": [
  {
   "cell_type": "code",
   "execution_count": 15,
   "id": "093aa822",
   "metadata": {},
   "outputs": [],
   "source": [
    "import os\n",
    "from os import listdir\n",
    "from numpy import load\n",
    "import numpy as np\n",
    "from sklearn.model_selection import train_test_split # loads functions from the ML library sklearn \n",
    "from sklearn.metrics import classification_report\n",
    "from sklearn.decomposition import PCA\n",
    "from sklearn.neural_network import MLPClassifier"
   ]
  },
  {
   "cell_type": "code",
   "execution_count": 16,
   "id": "18ac2334",
   "metadata": {},
   "outputs": [
    {
     "name": "stdout",
     "output_type": "stream",
     "text": [
      "D:\\AI\\Assignment\n"
     ]
    }
   ],
   "source": [
    "path = (os.getcwd())\n",
    "print(path)"
   ]
  },
  {
   "cell_type": "code",
   "execution_count": 17,
   "id": "d7bf32de",
   "metadata": {},
   "outputs": [],
   "source": [
    "# load array\n",
    "y = load(path +'\\yaleExtB_target.npy')\n",
    "X = load(path + '\\yaleExtB_data.npy')"
   ]
  },
  {
   "cell_type": "code",
   "execution_count": 18,
   "id": "d11af494",
   "metadata": {},
   "outputs": [],
   "source": [
    "# split into a training and testing set\n",
    "X_train, X_test, y_train, y_test = train_test_split(X, y, test_size=0.2)"
   ]
  },
  {
   "cell_type": "code",
   "execution_count": 19,
   "id": "703803db",
   "metadata": {},
   "outputs": [],
   "source": [
    "# PCA \n",
    "nof_prin_components = 200  # PARAMETER for optimisation in expereiments\n",
    "pca = PCA(n_components=nof_prin_components, whiten=True).fit(X_train)\n",
    "# applies PCA to the train and test images to calculate the principal components\n",
    "X_train_pca = pca.transform(X_train) \n",
    "X_test_pca = pca.transform(X_test)"
   ]
  },
  {
   "cell_type": "code",
   "execution_count": 26,
   "id": "12cf47dc",
   "metadata": {},
   "outputs": [
    {
     "name": "stdout",
     "output_type": "stream",
     "text": [
      "Fitting the classifier to the training set\n"
     ]
    }
   ],
   "source": [
    "# train a neural network\n",
    "nohn = 200 # nof hidden neurons\n",
    "print(\"Fitting the classifier to the training set\")\n",
    "clf = MLPClassifier(hidden_layer_sizes=(nohn,), \n",
    "                    solver='sgd', \n",
    "                    activation='tanh', \n",
    "                    batch_size=256, \n",
    "                    verbose=False, \n",
    "                    early_stopping=True).fit(X_train_pca, y_train)"
   ]
  },
  {
   "cell_type": "code",
   "execution_count": 27,
   "id": "a463d083",
   "metadata": {},
   "outputs": [
    {
     "name": "stdout",
     "output_type": "stream",
     "text": [
      "              precision    recall  f1-score   support\n",
      "\n",
      "         2.0       1.00      1.00      1.00        13\n",
      "         3.0       0.75      1.00      0.86         6\n",
      "         4.0       0.92      0.92      0.92        12\n",
      "         5.0       1.00      0.91      0.95        11\n",
      "         6.0       1.00      1.00      1.00        14\n",
      "         7.0       1.00      1.00      1.00        12\n",
      "         8.0       0.88      0.70      0.78        10\n",
      "         9.0       0.62      0.62      0.62         8\n",
      "        11.0       0.67      0.80      0.73         5\n",
      "        12.0       1.00      1.00      1.00         9\n",
      "        13.0       1.00      0.90      0.95        10\n",
      "        15.0       1.00      1.00      1.00         9\n",
      "        16.0       0.80      0.80      0.80         5\n",
      "        17.0       0.77      0.83      0.80        12\n",
      "        18.0       0.58      1.00      0.74         7\n",
      "        20.0       1.00      0.62      0.76        13\n",
      "        22.0       1.00      0.60      0.75        10\n",
      "        23.0       0.80      0.89      0.84         9\n",
      "        24.0       0.83      1.00      0.91        10\n",
      "        25.0       0.75      1.00      0.86         3\n",
      "        26.0       1.00      1.00      1.00         8\n",
      "        27.0       0.85      0.85      0.85        13\n",
      "        28.0       1.00      0.90      0.95        10\n",
      "        32.0       1.00      0.88      0.93         8\n",
      "        33.0       0.77      0.91      0.83        11\n",
      "        34.0       1.00      0.85      0.92        13\n",
      "        35.0       1.00      0.67      0.80        12\n",
      "        37.0       0.85      0.85      0.85        13\n",
      "        38.0       0.76      1.00      0.87        13\n",
      "        39.0       0.85      1.00      0.92        11\n",
      "\n",
      "    accuracy                           0.88       300\n",
      "   macro avg       0.88      0.88      0.87       300\n",
      "weighted avg       0.90      0.88      0.88       300\n",
      "\n"
     ]
    }
   ],
   "source": [
    "y_pred = clf.predict(X_test_pca) # reoognises the test images \n",
    "print(classification_report(y_test, y_pred)) # the recognition accuracy"
   ]
  },
  {
   "cell_type": "code",
   "execution_count": null,
   "id": "1280859d",
   "metadata": {},
   "outputs": [],
   "source": []
  }
 ],
 "metadata": {
  "kernelspec": {
   "display_name": "Python 3 (ipykernel)",
   "language": "python",
   "name": "python3"
  },
  "language_info": {
   "codemirror_mode": {
    "name": "ipython",
    "version": 3
   },
   "file_extension": ".py",
   "mimetype": "text/x-python",
   "name": "python",
   "nbconvert_exporter": "python",
   "pygments_lexer": "ipython3",
   "version": "3.11.0"
  }
 },
 "nbformat": 4,
 "nbformat_minor": 5
}
